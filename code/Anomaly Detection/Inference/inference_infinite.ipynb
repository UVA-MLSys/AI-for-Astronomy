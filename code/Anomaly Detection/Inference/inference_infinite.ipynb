{
 "cells": [
  {
   "cell_type": "markdown",
   "id": "24818826",
   "metadata": {},
   "source": [
    "# Imports"
   ]
  },
  {
   "cell_type": "code",
   "execution_count": 1,
   "id": "e46731f2",
   "metadata": {},
   "outputs": [],
   "source": [
    "import sys, argparse, json\n",
    "sys.path.append('..') #adjust based on your system's directory\n",
    "import torch, time, os \n",
    "import numpy as np\n",
    "from torch.utils.data import DataLoader\n",
    "from tqdm import tqdm\n",
    "import psutil, gc\n",
    "import time, platform"
   ]
  },
  {
   "cell_type": "markdown",
   "id": "d75c47dc",
   "metadata": {},
   "source": [
    "## Utils"
   ]
  },
  {
   "cell_type": "markdown",
   "id": "d2387a92",
   "metadata": {},
   "source": [
    "### Performance"
   ]
  },
  {
   "cell_type": "code",
   "execution_count": 2,
   "id": "c254671a",
   "metadata": {},
   "outputs": [],
   "source": [
    "def get_cpu_info():\n",
    "    # CPU Information\n",
    "    print(\"CPU Information:\")\n",
    "    print(f\"Processor: {platform.processor()}\")\n",
    "    print(f\"Architecture: {platform.architecture()}\")\n",
    "    print(f\"System: {platform.system()}\")\n",
    "    print(f\"Platform: {platform.platform()}\")\n",
    "\n",
    "    return {\n",
    "        'processor': platform.processor(),\n",
    "        'architecture': platform.architecture(),\n",
    "        'system': platform.system(),\n",
    "        'platform': platform.platform()\n",
    "    }\n",
    "\n",
    "# RAM Information\n",
    "def get_ram_info():\n",
    "    if hasattr(os, 'sysconf'):\n",
    "        if 'SC_PAGE_SIZE' in os.sysconf_names and 'SC_PHYS_PAGES' in os.sysconf_names:\n",
    "            page_size = os.sysconf('SC_PAGE_SIZE')  # in bytes\n",
    "            total_pages = os.sysconf('SC_PHYS_PAGES')\n",
    "            total_ram = page_size * total_pages  # in bytes\n",
    "            total_ram_gb = total_ram / (1024 ** 3)  # convert to GB\n",
    "            print(f\"Total memory (GB): {total_ram_gb:.2f}\")\n",
    "            return total_ram_gb\n",
    "    return None\n",
    "\n",
    "#Load Data\n",
    "def load_data(data_path, device):\n",
    "    return torch.load(data_path, map_location = device, weights_only=False)\n",
    "\n",
    "#Load Model\n",
    "def load_model(model_path, device):\n",
    "    model = torch.load(model_path, map_location = device, weights_only=False)\n",
    "    return model.module.eval()\n",
    "\n",
    "#Use DataLoader for iterating over batches\n",
    "def data_loader(data, batch_size):\n",
    "    return DataLoader(data, batch_size = batch_size, drop_last = False)   #Drop samples out of the batch size\n",
    "\n",
    "def get_process_memory_mb():\n",
    "    process = psutil.Process(os.getpid())\n",
    "    return process.memory_info().rss / 1024 / 1024\n",
    "\n",
    "def get_model_memory_mb(model):\n",
    "    total_params = sum(p.numel() for p in model.parameters())\n",
    "    param_bytes = total_params * 4  # assuming float32\n",
    "    return param_bytes / 1024 / 1024"
   ]
  },
  {
   "cell_type": "markdown",
   "id": "674b6537",
   "metadata": {},
   "source": [
    "### Size Calculator"
   ]
  },
  {
   "cell_type": "code",
   "execution_count": 3,
   "id": "07e92649",
   "metadata": {},
   "outputs": [],
   "source": [
    "import torch\n",
    "from typing import Union\n",
    "\n",
    "def get_tensor_size_in_mb(tensor: torch.Tensor) -> Union[float, str]:\n",
    "    \"\"\"\n",
    "    Calculates the size of a PyTorch tensor in megabytes (MB).\n",
    "\n",
    "    This function determines the total memory occupied by a tensor by multiplying\n",
    "    the number of elements in the tensor by the size of a single element in bytes.\n",
    "    The result is then converted from bytes to megabytes for a more\n",
    "    human-readable format.\n",
    "\n",
    "    Args:\n",
    "        tensor (torch.Tensor): The PyTorch tensor to be measured.\n",
    "\n",
    "    Returns:\n",
    "        Union[float, str]: The size of the tensor in MB as a float.\n",
    "                         Returns a string message if the input is not a torch.Tensor.\n",
    "    \"\"\"\n",
    "    # Check if the input is a PyTorch tensor to prevent errors.\n",
    "    if not isinstance(tensor, torch.Tensor):\n",
    "        return \"Input must be a PyTorch tensor.\"\n",
    "\n",
    "    try:\n",
    "        # Step 1: Get the total number of elements in the tensor.\n",
    "        # torch.numel() returns the number of elements in a tensor,\n",
    "        # which is equivalent to the product of its dimensions.\n",
    "        num_elements = tensor.numel()\n",
    "\n",
    "        # Step 2: Get the size of a single element in bytes.\n",
    "        # tensor.element_size() returns the size of each element\n",
    "        # based on its data type (e.g., float32 is 4 bytes, float64 is 8 bytes).\n",
    "        element_size_in_bytes = tensor.element_size()\n",
    "\n",
    "        # Step 3: Calculate the total size in bytes.\n",
    "        total_size_in_bytes = num_elements * element_size_in_bytes\n",
    "\n",
    "        # Step 4: Convert the total size to megabytes.\n",
    "        # There are 1024 bytes in a kilobyte and 1024 kilobytes in a megabyte.\n",
    "        size_in_mb = total_size_in_bytes / (1024 * 1024)\n",
    "\n",
    "        return size_in_mb\n",
    "    except Exception as e:\n",
    "        # A simple try-except block to catch potential runtime errors.\n",
    "        return f\"An error occurred: {e}\""
   ]
  },
  {
   "cell_type": "markdown",
   "id": "12900d1f",
   "metadata": {},
   "source": [
    "### InfiniteSampler"
   ]
  },
  {
   "cell_type": "code",
   "execution_count": 4,
   "id": "e96286c4",
   "metadata": {},
   "outputs": [],
   "source": [
    "from torch.utils.data.sampler import Sampler\n",
    "import distributed\n",
    "from typing import Any, Optional\n",
    "import itertools\n",
    "\n",
    "def _get_torch_dtype(size: int) -> Any:\n",
    "    return torch.int32 if size <= 2**31 else torch.int64\n",
    "\n",
    "def _generate_randperm_indices(*, size: int, generator: torch.Generator):\n",
    "    \"\"\"Generate the indices of a random permutation.\"\"\"\n",
    "    dtype = _get_torch_dtype(size)\n",
    "    # This is actually matching PyTorch's CPU implementation, see: https://github.com/pytorch/pytorch/blob/master/aten/src/ATen/native/TensorFactories.cpp#L900-L921\n",
    "    perm = torch.arange(size, dtype=dtype)\n",
    "    for i in range(size):\n",
    "        j = torch.randint(i, size, size=(1,), generator=generator).item()\n",
    "\n",
    "        # Always swap even if no-op\n",
    "        value = perm[j].item()\n",
    "        perm[j] = perm[i].item()\n",
    "        perm[i] = value\n",
    "        yield value\n",
    "\n",
    "class InfiniteSampler(Sampler):\n",
    "    def __init__(\n",
    "        self,\n",
    "        *,\n",
    "        sample_count: int,\n",
    "        shuffle: bool = False,\n",
    "        seed: int = 0,\n",
    "        start: Optional[int] = None,\n",
    "        step: Optional[int] = None,\n",
    "        advance: int = 0,\n",
    "    ):\n",
    "        self._sample_count = sample_count\n",
    "        self._seed = seed\n",
    "        self._shuffle = shuffle\n",
    "        self._start = distributed.get_global_rank() if start is None else start\n",
    "        self._step = distributed.get_global_size() if step is None else step\n",
    "        self._advance = advance\n",
    "\n",
    "    def __iter__(self):\n",
    "        if self._shuffle:\n",
    "            iterator = self._shuffled_iterator()\n",
    "        else:\n",
    "            iterator = self._iterator()\n",
    "\n",
    "        yield from itertools.islice(iterator, self._advance, None)\n",
    "\n",
    "    def _iterator(self):\n",
    "        assert not self._shuffle\n",
    "\n",
    "        while True:\n",
    "            iterable = range(self._sample_count)\n",
    "            yield from itertools.islice(iterable, self._start, None, self._step)\n",
    "\n",
    "    def _shuffled_iterator(self):\n",
    "        assert self._shuffle\n",
    "\n",
    "        # Instantiate a generator here (rather than in the ctor) to keep the class\n",
    "        # picklable (requirement of mp.spawn)\n",
    "        generator = torch.Generator().manual_seed(self._seed)\n",
    "\n",
    "        while True:\n",
    "            iterable = _generate_randperm_indices(size=self._sample_count, generator=generator)\n",
    "            yield from itertools.islice(iterable, self._start, None, self._step)"
   ]
  },
  {
   "cell_type": "markdown",
   "id": "1c8cc10e",
   "metadata": {},
   "source": [
    "# Configs"
   ]
  },
  {
   "cell_type": "code",
   "execution_count": 5,
   "id": "a61878fe",
   "metadata": {},
   "outputs": [],
   "source": [
    "batch_size = 512\n",
    "data_path = '../../../raw_data/1.pt'\n",
    "model_path = '../Fine_Tune_Model/Mixed_Inception_z_VITAE_Base_Img_Full_New_Full.pt'\n",
    "device = 'cpu'"
   ]
  },
  {
   "cell_type": "code",
   "execution_count": 6,
   "id": "c21c6647",
   "metadata": {},
   "outputs": [
    {
     "name": "stdout",
     "output_type": "stream",
     "text": [
      "CPU Information:\n",
      "Processor: x86_64\n",
      "Architecture: ('64bit', 'ELF')\n",
      "System: Linux\n",
      "Platform: Linux-4.18.0-553.47.1.el8_10.x86_64-x86_64-with-glibc2.28\n",
      "Total memory (GB): 376.53\n"
     ]
    },
    {
     "data": {
      "text/plain": [
       "376.5285186767578"
      ]
     },
     "execution_count": 6,
     "metadata": {},
     "output_type": "execute_result"
    }
   ],
   "source": [
    "get_cpu_info()\n",
    "get_ram_info()"
   ]
  },
  {
   "cell_type": "markdown",
   "id": "c49279e9",
   "metadata": {},
   "source": [
    "# Run Inference"
   ]
  },
  {
   "cell_type": "code",
   "execution_count": null,
   "id": "60c31c01",
   "metadata": {},
   "outputs": [],
   "source": [
    "data = load_data(data_path, device)\n",
    "model = load_model(model_path, device)\n",
    "real_redshift = data[:][2]"
   ]
  },
  {
   "cell_type": "code",
   "execution_count": 8,
   "id": "6dcb6d82",
   "metadata": {},
   "outputs": [],
   "source": [
    "sample_count = len(data.tensors[0])\n",
    "sampler = InfiniteSampler(\n",
    "    sample_count=sample_count,\n",
    "    shuffle=False,\n",
    "    seed=7,\n",
    "    advance=0,\n",
    ")"
   ]
  },
  {
   "cell_type": "code",
   "execution_count": 9,
   "id": "737fcb07",
   "metadata": {},
   "outputs": [],
   "source": [
    "dataloader = DataLoader(\n",
    "    data, batch_size = batch_size, drop_last = False,\n",
    "    sampler=sampler, num_workers=0\n",
    ")"
   ]
  },
  {
   "cell_type": "code",
   "execution_count": 10,
   "id": "bf274444",
   "metadata": {},
   "outputs": [
    {
     "name": "stdout",
     "output_type": "stream",
     "text": [
      "torch.Size([51267, 5, 32, 32])\n",
      "Total size 1003.45984, MB per sample 0.01957\n",
      "Batches per GB 103\n"
     ]
    }
   ],
   "source": [
    "print(data.tensors[0].shape)\n",
    "total_size = sum([get_tensor_size_in_mb(t) for t in data.tensors])\n",
    "mb_per_sample = total_size / len(data.tensors[0])\n",
    "\n",
    "print(f'Total size {total_size:0.5f}, MB per sample {mb_per_sample:0.5f}')\n",
    "# one sample is ~ 0.019573 MB in size\n",
    "\n",
    "batch_per_GB = int(np.ceil(1024 / (batch_size * mb_per_sample)))\n",
    "print(f'Batches per GB {batch_per_GB}')"
   ]
  },
  {
   "cell_type": "code",
   "execution_count": null,
   "id": "cbee2b44",
   "metadata": {},
   "outputs": [
    {
     "name": "stderr",
     "output_type": "stream",
     "text": [
      "  0%|          | 103/105472 [03:19<56:07:21,  1.92s/it]"
     ]
    },
    {
     "name": "stdout",
     "output_type": "stream",
     "text": [
      "Processed 1 GB.\n"
     ]
    },
    {
     "name": "stderr",
     "output_type": "stream",
     "text": [
      "  0%|          | 206/105472 [06:45<56:21:39,  1.93s/it]"
     ]
    },
    {
     "name": "stdout",
     "output_type": "stream",
     "text": [
      "Processed 2 GB.\n"
     ]
    },
    {
     "name": "stderr",
     "output_type": "stream",
     "text": [
      "  0%|          | 309/105472 [10:02<57:53:15,  1.98s/it]"
     ]
    },
    {
     "name": "stdout",
     "output_type": "stream",
     "text": [
      "Processed 3 GB.\n"
     ]
    },
    {
     "name": "stderr",
     "output_type": "stream",
     "text": [
      "  0%|          | 412/105472 [13:20<56:59:43,  1.95s/it]"
     ]
    },
    {
     "name": "stdout",
     "output_type": "stream",
     "text": [
      "Processed 4 GB.\n"
     ]
    },
    {
     "name": "stderr",
     "output_type": "stream",
     "text": [
      "  0%|          | 515/105472 [16:37<56:57:51,  1.95s/it]"
     ]
    },
    {
     "name": "stdout",
     "output_type": "stream",
     "text": [
      "Processed 5 GB.\n"
     ]
    },
    {
     "name": "stderr",
     "output_type": "stream",
     "text": [
      "  1%|          | 618/105472 [20:04<56:28:26,  1.94s/it]"
     ]
    },
    {
     "name": "stdout",
     "output_type": "stream",
     "text": [
      "Processed 6 GB.\n"
     ]
    },
    {
     "name": "stderr",
     "output_type": "stream",
     "text": [
      "  1%|          | 645/105472 [20:56<56:34:24,  1.94s/it]"
     ]
    }
   ],
   "source": [
    "total_batches = batch_per_GB * 1024 # 1TB \n",
    "total_time = 0.0  # Initialize total time for execution\n",
    "total_data_bits = 0  # Initialize total data bits processed\n",
    "\n",
    "start = time.perf_counter()\n",
    "total = []\n",
    "# Initialize the profiler to track both CPU and GPU activities and memory usage\n",
    "with torch.no_grad():\n",
    "    for i, data in tqdm(enumerate(dataloader), total=total_batches):\n",
    "        image = data[0].to(device)  # Image to device\n",
    "        magnitude = data[1].to(device)  # Magnitude to device\n",
    "\n",
    "        _ = model([image, magnitude])  # Model inference\n",
    "\n",
    "        # Calculate data size for this batch\n",
    "        image_bits = image.element_size() * image.nelement() * 8  # Convert bytes to bits\n",
    "        magnitude_bits = magnitude.element_size() * magnitude.nelement() * 8  # Convert bytes to bits\n",
    "        total_data_bits += image_bits + magnitude_bits  # Add data bits for this batch\n",
    "\n",
    "        if (i+1) % batch_per_GB !=0: continue\n",
    "        GB_processed = int((i+1) / batch_per_GB)\n",
    "        print(f'Processed {GB_processed} GB.')\n",
    "\n",
    "        # benchmark results\n",
    "        num_samples = (i+1) * batch_size\n",
    "        # Extract total CPU and GPU time\n",
    "        total_time = time.perf_counter() - start \n",
    "        total_process_mem = get_process_memory_mb()\n",
    "        execution_info = {\n",
    "            'total_execution_time (seconds)': total_time,\n",
    "            'total_process_memory (MB)': total_process_mem,\n",
    "            'num_batches': i+1,   # Number of batches\n",
    "            'batch_size': batch_size,   # Batch size\n",
    "            'device': device,   # Selected device,\n",
    "            'GB_processed': GB_processed\n",
    "        }\n",
    "\n",
    "        avg_time_batch = total_time / (i+1)\n",
    "\n",
    "        # Average execution time per batch\n",
    "        execution_info['execution_time_per_batch'] = avg_time_batch\n",
    "        # Throughput in bits per second (using total_time for all batches)\n",
    "        execution_info['throughput_bps'] = total_data_bits / total_time\n",
    "        execution_info['sample_persec'] = num_samples / total_time,  # Number of samples processed per second\n",
    "        \n",
    "        total.append(execution_info)\n",
    "        with open(f'cpu/{GB_processed}.json', 'w') as f:\n",
    "            json.dump(execution_info, f, indent=4)\n",
    "\n",
    "        # stop condition, otherwise infinite sampler will keep running forever\n",
    "        if i+1 >= total_batches: break\n",
    "\n",
    "with open(f'cpu/total.json', 'w') as f:\n",
    "    json.dump(total, f, indent=4)"
   ]
  }
 ],
 "metadata": {
  "kernelspec": {
   "display_name": "cosmic_ai",
   "language": "python",
   "name": "python3"
  },
  "language_info": {
   "codemirror_mode": {
    "name": "ipython",
    "version": 3
   },
   "file_extension": ".py",
   "mimetype": "text/x-python",
   "name": "python",
   "nbconvert_exporter": "python",
   "pygments_lexer": "ipython3",
   "version": "3.10.18"
  }
 },
 "nbformat": 4,
 "nbformat_minor": 5
}
